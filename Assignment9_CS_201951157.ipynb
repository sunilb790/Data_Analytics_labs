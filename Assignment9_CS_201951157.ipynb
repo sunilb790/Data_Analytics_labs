{
  "nbformat": 4,
  "nbformat_minor": 0,
  "metadata": {
    "colab": {
      "name": "Assignment9_CS_201951157.ipynb",
      "provenance": []
    },
    "kernelspec": {
      "name": "python3",
      "display_name": "Python 3"
    },
    "language_info": {
      "name": "python"
    }
  },
  "cells": [
    {
      "cell_type": "markdown",
      "source": [
        "#CS312 DATA ANALYTICS AND VISUALIZATION  \n",
        "#SUNIL BHENSPALIYA\n",
        "#201951157 (CSE)\n",
        "#LAB ASSIGNMENT :- 9"
      ],
      "metadata": {
        "id": "lg7XBdTpAqKz"
      }
    },
    {
      "cell_type": "code",
      "execution_count": null,
      "metadata": {
        "id": "BfDhvm6M9jKb"
      },
      "outputs": [],
      "source": [
        "import numpy as np\n",
        "import pandas as pd\n",
        "import matplotlib.pyplot as plt\n",
        "import math"
      ]
    },
    {
      "cell_type": "code",
      "source": [
        "data = pd.read_csv('/content/sample_data/weight-height.csv')['Height']\n",
        "data.head()"
      ],
      "metadata": {
        "colab": {
          "base_uri": "https://localhost:8080/"
        },
        "id": "fisLj_Dl9noB",
        "outputId": "18c7a5ad-d65d-4ca1-f962-cfc35edaaa79"
      },
      "execution_count": null,
      "outputs": [
        {
          "output_type": "execute_result",
          "data": {
            "text/plain": [
              "0    73.847017\n",
              "1    68.781904\n",
              "2    74.110105\n",
              "3    71.730978\n",
              "4    69.881796\n",
              "Name: Height, dtype: float64"
            ]
          },
          "metadata": {},
          "execution_count": 2
        }
      ]
    },
    {
      "cell_type": "code",
      "source": [
        "_ = plt.hist(data, bins=200)\n",
        "standard_error = np.std(data)/(np.sqrt(len(data)))\n",
        "standard_error"
      ],
      "metadata": {
        "colab": {
          "base_uri": "https://localhost:8080/",
          "height": 285
        },
        "id": "NzW2xEFB_gEk",
        "outputId": "15c3ec59-571e-4d28-bf4d-0b7dc4b02698"
      },
      "execution_count": null,
      "outputs": [
        {
          "output_type": "execute_result",
          "data": {
            "text/plain": [
              "0.038473357395575426"
            ]
          },
          "metadata": {},
          "execution_count": 3
        },
        {
          "output_type": "display_data",
          "data": {
            "text/plain": [
              "<Figure size 432x288 with 1 Axes>"
            ],
            "image/png": "[encoded data removed]"
          },
          "metadata": {
            "needs_background": "light"
          }
        }
      ]
    },
    {
      "cell_type": "code",
      "source": [
        "sample_data = np.random.choice(data,100,replace=False)\n",
        "_ = plt.hist(sample_data,bins=10)\n",
        "standard_error = np.std(sample_data)/np.sqrt(len(sample_data))\n",
        "standard_error"
      ],
      "metadata": {
        "colab": {
          "base_uri": "https://localhost:8080/",
          "height": 283
        },
        "id": "Cw57uROP_kng",
        "outputId": "aa3e8915-1772-4773-e2c6-14e011e6887f"
      },
      "execution_count": null,
      "outputs": [
        {
          "output_type": "execute_result",
          "data": {
            "text/plain": [
              "0.35002322943325337"
            ]
          },
          "metadata": {},
          "execution_count": 4
        },
        {
          "output_type": "display_data",
          "data": {
            "text/plain": [
              "<Figure size 432x288 with 1 Axes>"
            ],
            "image/png": "[encoded data removed]"
          },
          "metadata": {
            "needs_background": "light"
          }
        }
      ]
    },
    {
      "cell_type": "code",
      "source": [
        "number_of_samples=10000\n",
        "size_of_sample=100\n",
        "sample_mean=[]\n",
        "for i in range(number_of_samples):\n",
        "    sample_mean.append(np.mean(np.random.choice(data,size_of_sample,replace=False)))"
      ],
      "metadata": {
        "id": "jRkr6MTL_p5l"
      },
      "execution_count": null,
      "outputs": []
    },
    {
      "cell_type": "code",
      "source": [
        "_=plt.hist(sample_mean,bins=100)\n",
        "standard_error=np.std(sample_mean)/np.sqrt(len(sample_mean))\n",
        "standard_error"
      ],
      "metadata": {
        "colab": {
          "base_uri": "https://localhost:8080/",
          "height": 283
        },
        "id": "AbmEOXDp_vRL",
        "outputId": "8cecffec-b9ad-4807-dafe-12094f337f71"
      },
      "execution_count": null,
      "outputs": [
        {
          "output_type": "execute_result",
          "data": {
            "text/plain": [
              "0.0038447121123804033"
            ]
          },
          "metadata": {},
          "execution_count": 6
        },
        {
          "output_type": "display_data",
          "data": {
            "text/plain": [
              "<Figure size 432x288 with 1 Axes>"
            ],
            "image/png": "[encoded data removed]"
          },
          "metadata": {
            "needs_background": "light"
          }
        }
      ]
    },
    {
      "cell_type": "code",
      "source": [
        "number_of_samples=10000 # R times\n",
        "size_of_sample=300  # n\n",
        "sample_mean=[]\n",
        "for i in range(number_of_samples):\n",
        "    # Calulate mean for n samples\n",
        "    sample_mean.append(np.mean(np.random.choice(data,size_of_sample,replace=True)))"
      ],
      "metadata": {
        "id": "im8B3vyj_1AW"
      },
      "execution_count": null,
      "outputs": []
    },
    {
      "cell_type": "code",
      "source": [
        "_=plt.hist(sample_mean,bins=100)\n",
        "standard_error=np.std(sample_mean)/np.sqrt(len(sample_mean))\n",
        "standard_error"
      ],
      "metadata": {
        "colab": {
          "base_uri": "https://localhost:8080/",
          "height": 283
        },
        "id": "oZp8sHo2_5nC",
        "outputId": "d84f9043-df25-47f6-cff6-d0c90bf7b9ab"
      },
      "execution_count": null,
      "outputs": [
        {
          "output_type": "execute_result",
          "data": {
            "text/plain": [
              "0.0022487024012518998"
            ]
          },
          "metadata": {},
          "execution_count": 8
        },
        {
          "output_type": "display_data",
          "data": {
            "text/plain": [
              "<Figure size 432x288 with 1 Axes>"
            ],
            "image/png": "[encoded data removed]"
          },
          "metadata": {
            "needs_background": "light"
          }
        }
      ]
    },
    {
      "cell_type": "code",
      "source": [
        "CI=0.95\n",
        "sorted_means=np.sort(sample_mean)\n",
        "l=len(sorted_means)\n",
        "idx=math.floor(l*((1-CI)/2))\n",
        "\n",
        "print(\"Lower level :\", sorted_means[idx])\n",
        "print(\"Upper level :\", sorted_means[l-idx-1])"
      ],
      "metadata": {
        "colab": {
          "base_uri": "https://localhost:8080/"
        },
        "id": "TbtcdVqd__Ho",
        "outputId": "fec36beb-eafc-4159-b5e0-16d8cfca2484"
      },
      "execution_count": null,
      "outputs": [
        {
          "output_type": "stream",
          "name": "stdout",
          "text": [
            "Lower level : 65.92905377556211\n",
            "Upper level : 66.8096958361841\n"
          ]
        }
      ]
    },
    {
      "cell_type": "code",
      "source": [
        "CI=0.9\n",
        "sorted_means=np.sort(sample_mean)\n",
        "l=len(sorted_means)\n",
        "idx=math.floor(l*((1-CI)/2))\n",
        "\n",
        "print(\"Lower level :\", sorted_means[idx])\n",
        "print(\"Upper level :\", sorted_means[l-idx-1])"
      ],
      "metadata": {
        "colab": {
          "base_uri": "https://localhost:8080/"
        },
        "id": "N16iu-tpAFuI",
        "outputId": "c356e8f3-f6a2-40e5-ae6f-098cbfbb1110"
      },
      "execution_count": null,
      "outputs": [
        {
          "output_type": "stream",
          "name": "stdout",
          "text": [
            "Lower level : 65.99569626546891\n",
            "Upper level : 66.74256127060386\n"
          ]
        }
      ]
    },
    {
      "cell_type": "code",
      "source": [
        "CI=0.8\n",
        "sorted_means=np.sort(sample_mean)\n",
        "l=len(sorted_means)\n",
        "idx=math.floor(l*((1-CI)/2))\n",
        "\n",
        "print(\"Lower level :\", sorted_means[idx])\n",
        "print(\"Upper level :\", sorted_means[l-idx-1])"
      ],
      "metadata": {
        "colab": {
          "base_uri": "https://localhost:8080/"
        },
        "id": "-PRJEte5AKyu",
        "outputId": "2d43cb41-cf29-417a-de6d-52953737d1ac"
      },
      "execution_count": null,
      "outputs": [
        {
          "output_type": "stream",
          "name": "stdout",
          "text": [
            "Lower level : 66.07820851667775\n",
            "Upper level : 66.65717106520805\n"
          ]
        }
      ]
    }
  ]
}